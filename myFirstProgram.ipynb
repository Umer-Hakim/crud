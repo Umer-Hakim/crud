{
 "cells": [
  {
   "cell_type": "code",
   "execution_count": null,
   "id": "545d8507-8d65-41a9-851e-0e6a3a851bf9",
   "metadata": {},
   "outputs": [],
   "source": [
    "#Hello Blessing world"
   ]
  },
  {
   "cell_type": "code",
   "execution_count": 2,
   "id": "37e3dc70-b216-401d-9b2d-db62230c8404",
   "metadata": {},
   "outputs": [
    {
     "name": "stdout",
     "output_type": "stream",
     "text": [
      "Hello blessing world\n"
     ]
    }
   ],
   "source": [
    "print(\"Hello blessing world\")"
   ]
  },
  {
   "cell_type": "code",
   "execution_count": null,
   "id": "843e629f-5b39-4bcf-80c4-148830fd63fd",
   "metadata": {},
   "outputs": [],
   "source": []
  }
 ],
 "metadata": {
  "kernelspec": {
   "display_name": "Python 3 (ipykernel)",
   "language": "python",
   "name": "python3"
  },
  "language_info": {
   "codemirror_mode": {
    "name": "ipython",
    "version": 3
   },
   "file_extension": ".py",
   "mimetype": "text/x-python",
   "name": "python",
   "nbconvert_exporter": "python",
   "pygments_lexer": "ipython3",
   "version": "3.12.7"
  }
 },
 "nbformat": 4,
 "nbformat_minor": 5
}
